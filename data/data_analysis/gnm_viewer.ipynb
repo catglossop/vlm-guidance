{
 "cells": [
  {
   "cell_type": "code",
   "execution_count": 1,
   "metadata": {},
   "outputs": [],
   "source": [
    "import glob\n",
    "import os\n",
    "import numpy\n",
    "from PIL import Image\n",
    "import random"
   ]
  },
  {
   "cell_type": "markdown",
   "metadata": {},
   "source": [
    "View {Insert GNM dataset} Dataset"
   ]
  },
  {
   "cell_type": "code",
   "execution_count": 6,
   "metadata": {},
   "outputs": [],
   "source": [
    "dataset = \"scand\""
   ]
  },
  {
   "cell_type": "code",
   "execution_count": 7,
   "metadata": {},
   "outputs": [
    {
     "data": {
      "text/plain": [
       "0"
      ]
     },
     "execution_count": 7,
     "metadata": {},
     "output_type": "execute_result"
    }
   ],
   "source": [
    "# Load random traj from cory hall \n",
    "paths = glob.glob(f\"/home/noam/LLLwL/datasets/gnm_dataset/{dataset}/*\")\n",
    "path = random.choice(paths)\n",
    "image_paths = sorted(glob.glob(f\"{path}/*.jpg\"), key=lambda x: int(x.split(\"/\")[-1].split(\".\")[0]))\n",
    "images = [Image.open(img) for img in image_paths]\n",
    "images[0].save(f\"{dataset}.gif\", save_all=True, append_images=images[1:], duration=100, loop=0)\n",
    "\n",
    "# Show the embedded gif\n",
    "os.system(f\"eog {dataset}.gif\")"
   ]
  }
 ],
 "metadata": {
  "kernelspec": {
   "display_name": "base",
   "language": "python",
   "name": "python3"
  },
  "language_info": {
   "codemirror_mode": {
    "name": "ipython",
    "version": 3
   },
   "file_extension": ".py",
   "mimetype": "text/x-python",
   "name": "python",
   "nbconvert_exporter": "python",
   "pygments_lexer": "ipython3",
   "version": "3.12.2"
  }
 },
 "nbformat": 4,
 "nbformat_minor": 2
}
